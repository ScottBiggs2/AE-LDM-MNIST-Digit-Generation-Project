{
 "cells": [
  {
   "cell_type": "code",
   "execution_count": 1,
   "id": "d8528977",
   "metadata": {},
   "outputs": [
    {
     "name": "stdout",
     "output_type": "stream",
     "text": [
      "cpu\n"
     ]
    }
   ],
   "source": [
    "# Import required libraries\n",
    "import torch\n",
    "\n",
    "import torch.nn as nn\n",
    "import torch.nn.functional as F\n",
    "from torch import nn\n",
    "\n",
    "from torch.utils.data import DataLoader\n",
    "from torchvision import datasets\n",
    "from torchvision import transforms\n",
    "from torchvision.transforms import ToTensor\n",
    "\n",
    "import torch.optim as optim \n",
    "from sklearn.model_selection import train_test_split\n",
    "\n",
    "import matplotlib.pyplot as plt\n",
    "import numpy as np\n",
    "\n",
    "# Device configuration\n",
    "device = torch.device('cuda' if torch.cuda.is_available() else 'cpu')\n",
    "print(device)"
   ]
  },
  {
   "cell_type": "code",
   "execution_count": 2,
   "id": "795eca76-21d4-4ef9-9ca5-3bc26df24528",
   "metadata": {},
   "outputs": [],
   "source": [
    "# !pip install torch\n",
    "# !pip install torchvision"
   ]
  },
  {
   "cell_type": "code",
   "execution_count": 3,
   "id": "cb0db27a",
   "metadata": {
    "scrolled": true
   },
   "outputs": [],
   "source": [
    "test_data = datasets.MNIST(\n",
    "    root='./data',\n",
    "    train=False, # This is the test data\n",
    "    download=True, \n",
    "    transform=ToTensor()\n",
    ")\n",
    "\n",
    "train_data = datasets.MNIST(\n",
    "    root='./data',\n",
    "    train=True, # This is the test data\n",
    "    download=True, \n",
    "    transform=ToTensor()\n",
    ")\n"
   ]
  },
  {
   "cell_type": "code",
   "execution_count": 4,
   "id": "d897dfab",
   "metadata": {},
   "outputs": [],
   "source": [
    "from torch.utils.data import DataLoader\n",
    "\n",
    "batch_size = 100\n",
    "train_dataloader = DataLoader(train_data, batch_size=batch_size, shuffle=True)\n",
    "test_dataloader = DataLoader(test_data, batch_size=batch_size, shuffle=True)"
   ]
  },
  {
   "cell_type": "code",
   "execution_count": 9,
   "id": "19b3ff14",
   "metadata": {},
   "outputs": [
    {
     "name": "stdout",
     "output_type": "stream",
     "text": [
      "Feature batch shape: torch.Size([100, 1, 28, 28])\n",
      "Labels batch shape: torch.Size([100])\n"
     ]
    },
    {
     "data": {
      "image/png": "[encoded data removed]",
      "text/plain": [
       "<Figure size 640x480 with 1 Axes>"
      ]
     },
     "metadata": {},
     "output_type": "display_data"
    },
    {
     "name": "stdout",
     "output_type": "stream",
     "text": [
      "Label: 9\n"
     ]
    }
   ],
   "source": [
    "# Display image and label.\n",
    "train_features, train_labels = next(iter(train_dataloader))\n",
    "print(f\"Feature batch shape: {train_features.size()}\")\n",
    "print(f\"Labels batch shape: {train_labels.size()}\")\n",
    "img = train_features[0].squeeze()\n",
    "label = train_labels[0]\n",
    "plt.imshow(img, cmap=\"gray\")\n",
    "plt.show()\n",
    "print(f\"Label: {label}\")"
   ]
  },
  {
   "cell_type": "code",
   "execution_count": 11,
   "id": "a505b700",
   "metadata": {},
   "outputs": [],
   "source": [
    "class ResidualBlock(nn.Module):\n",
    "    def __init__(self, in_channels, out_channels, stride = 1, downsample = None):\n",
    "        super(ResidualBlock, self).__init__()\n",
    "        self.conv1 = nn.Sequential(\n",
    "                        nn.Conv2d(in_channels, out_channels, kernel_size = 3, stride = stride, padding = 1),\n",
    "                        nn.BatchNorm2d(out_channels),\n",
    "                        nn.ReLU())\n",
    "        self.conv2 = nn.Sequential(\n",
    "                        nn.Conv2d(out_channels, out_channels, kernel_size = 3, stride = 1, padding = 1),\n",
    "                        nn.BatchNorm2d(out_channels))\n",
    "        self.downsample = downsample\n",
    "        self.relu = nn.ReLU()\n",
    "        self.out_channels = out_channels\n",
    "\n",
    "    def forward(self, x):\n",
    "        residual = x\n",
    "        out = self.conv1(x)\n",
    "        out = self.conv2(out)\n",
    "        if self.downsample:\n",
    "            residual = self.downsample(x)\n",
    "        out += residual\n",
    "        out = self.relu(out)\n",
    "        return out\n",
    "\n",
    "\n",
    "class Encoder(nn.Module):\n",
    "    def __init__(self, ResidualBlock, batch_size, L_dim):\n",
    "        super(Encoder, self).__init__()\n",
    "        \n",
    "        pixels = 28**2\n",
    "        pixelsd4 = int(pixels/4)\n",
    "        \n",
    "        self.resnet = ResidualBlock(1, 1)\n",
    "        \n",
    "        self.fc1 = nn.Linear(pixels, pixels)\n",
    "        self.mp1 = nn.MaxPool1d(2)  # Reducing the pooling kernel size to avoid collapsing dimensions\n",
    "        self.bn1 = nn.BatchNorm1d(pixels//2)  # Updated to match new output shape after pooling\n",
    "        self.fc2 = nn.Linear(pixels//2, L_dim)  # Adjusted to match output size from BatchNorm1d\n",
    "        \n",
    "    def forward(self, x):\n",
    "        x = self.resnet(x)\n",
    "        x = torch.reshape(x, [x.shape[0], 28**2])  # Use dynamic batch size instead of hardcoded batch_size\n",
    "        \n",
    "        x = self.fc1(x)\n",
    "        x = x.unsqueeze(1)  # Adding a channel dimension to match MaxPool1d input requirements\n",
    "        \n",
    "        x = self.mp1(x)\n",
    "        x = x.squeeze(1)  # Removing the channel dimension post-pooling\n",
    "        x = self.bn1(x)\n",
    "        \n",
    "        x = self.fc2(x)\n",
    "        return x  # This is the latent space z as a vector [batch_size, L_dim]\n",
    "    \n",
    "    \n",
    "class Decoder(nn.Module): \n",
    "        def __init__(self, L_dim):\n",
    "            super(Decoder, self).__init__()\n",
    "            \n",
    "            self.fc1 = nn.Linear(L_dim, 128 )  # [1, L_dim] -> [1, 128]\n",
    "            self.fc2 = nn.Linear(128, 256)\n",
    "            self.bn1 = nn.BatchNorm1d(256) \n",
    "            \n",
    "            self.Tconv1 = nn.ConvTranspose2d(1, 1, (2, 2), 2, 2) \n",
    "            self.max_pool1 = nn.MaxPool2d(2, 2)\n",
    "            \n",
    "            self.fc3 = nn.Linear(196, 400)\n",
    "            self.fc4 = nn.Linear(400, 784)\n",
    "            \n",
    "\n",
    "        def forward(self, x): \n",
    "            \n",
    "            x = self.fc1(x)\n",
    "            x = self.fc2( F.relu(x) )\n",
    "            x = self.bn1(x)\n",
    "            x = F.relu(x)\n",
    "            \n",
    "            x = torch.reshape(x, (100, 1, 16, 16))\n",
    "            x = self.Tconv1(x)\n",
    "            x = self.max_pool1(x)\n",
    "            x = F.relu(x)\n",
    "            \n",
    "            x = torch.reshape(x, (100, 196))\n",
    "            x = self.fc3( x )\n",
    "            x = self.fc4( F.relu(x) )\n",
    "            x = torch.reshape(x, (100, 1, 28, 28)) # remove batch size hard-coding\n",
    "\n",
    "            return x # The reconstruction\n",
    "        \n",
    "class AutoEncoder(nn.Module):\n",
    "    def __init__(self, ResidualBlock, Encoder, Decoder, batch_size, L_dim = 32): \n",
    "        super(AutoEncoder, self).__init__()\n",
    "        \n",
    "        self.encoder = Encoder(ResidualBlock, batch_size, L_dim)\n",
    "        self.decoder = Decoder(L_dim)\n",
    "        \n",
    "    def forward(self, x): \n",
    "        x = self.encoder(x)\n",
    "        x = self.decoder(x)\n",
    "        return x "
   ]
  },
  {
   "cell_type": "code",
   "execution_count": 13,
   "id": "1dc74ae1",
   "metadata": {},
   "outputs": [],
   "source": [
    "def train(model, train_loader, epochs, opt):\n",
    "    # Loss stuff\n",
    "    lr = 1e-4\n",
    "    weight_decay = 1e-5\n",
    "    if opt == True:\n",
    "        optimizer = optim.Adam(model.parameters(), lr=lr, weight_decay = weight_decay)\n",
    "    else:\n",
    "        optimizer = optim.SGD(model.parameters(), lr=lr, momentum = 0.9, weight_decay = weight_decay)\n",
    "        \n",
    "    mse = nn.MSELoss()\n",
    "    L1 = nn.L1Loss()\n",
    "    alpha = 0.75\n",
    "    \n",
    "    plt.xlabel(\"Epochs\")\n",
    "    plt.ylabel(\"Loss\") \n",
    "#     plt.ylim(0, 100) # A guess\n",
    "    \n",
    "    for epoch in range(epochs):\n",
    "        \n",
    "        model.train()\n",
    "        running_loss = 0.0\n",
    "            \n",
    "        for data, _ in train_loader:\n",
    "            optimizer.zero_grad()\n",
    "            outputs = model(data)\n",
    "            loss = alpha * mse(outputs, data ) + (1 - alpha) * L1(outputs, data )\n",
    "            loss.backward()\n",
    "            optimizer.step()\n",
    "            running_loss += loss.item()\n",
    "        \n",
    "        plt.scatter(epoch, running_loss, color = 'r')\n",
    "        print(f'Epoch [{epoch +1}/{epochs}], Loss: {running_loss:.4f}')\n",
    "\n",
    "        if epoch%10 ==0: \n",
    "            # Additional information\n",
    "            PATH = \"model.pt\"\n",
    "            torch.save({\n",
    "                'epoch': epoch,\n",
    "                'model_state_dict': model.state_dict(),\n",
    "                'optimizer_state_dict': optimizer.state_dict(),\n",
    "                'loss': running_loss,\n",
    "                }, PATH)\n",
    "    "
   ]
  },
  {
   "cell_type": "code",
   "execution_count": 15,
   "id": "c0cd9ecf",
   "metadata": {
    "scrolled": true
   },
   "outputs": [
    {
     "name": "stdout",
     "output_type": "stream",
     "text": [
      "Epoch [1/50], Loss: 42.4439\n",
      "Epoch [2/50], Loss: 27.4001\n",
      "Epoch [3/50], Loss: 23.2269\n",
      "Epoch [4/50], Loss: 20.8577\n",
      "Epoch [5/50], Loss: 19.3005\n",
      "Epoch [6/50], Loss: 18.2338\n",
      "Epoch [7/50], Loss: 17.5087\n",
      "Epoch [8/50], Loss: 16.9349\n",
      "Epoch [9/50], Loss: 16.4998\n",
      "Epoch [10/50], Loss: 16.1504\n",
      "Epoch [11/50], Loss: 15.8154\n",
      "Epoch [12/50], Loss: 15.5663\n",
      "Epoch [13/50], Loss: 15.3193\n",
      "Epoch [14/50], Loss: 15.0900\n",
      "Epoch [15/50], Loss: 14.9114\n",
      "Epoch [16/50], Loss: 14.7212\n",
      "Epoch [17/50], Loss: 14.5350\n",
      "Epoch [18/50], Loss: 14.3989\n",
      "Epoch [19/50], Loss: 14.2762\n",
      "Epoch [20/50], Loss: 14.1207\n",
      "Epoch [21/50], Loss: 14.0024\n",
      "Epoch [22/50], Loss: 13.8998\n",
      "Epoch [23/50], Loss: 13.7732\n",
      "Epoch [24/50], Loss: 13.6767\n",
      "Epoch [25/50], Loss: 13.5638\n",
      "Epoch [26/50], Loss: 13.4788\n",
      "Epoch [27/50], Loss: 13.3968\n",
      "Epoch [28/50], Loss: 13.2859\n",
      "Epoch [29/50], Loss: 13.2086\n",
      "Epoch [30/50], Loss: 13.1241\n",
      "Epoch [31/50], Loss: 13.0498\n",
      "Epoch [32/50], Loss: 12.9564\n",
      "Epoch [33/50], Loss: 12.9064\n",
      "Epoch [34/50], Loss: 12.8403\n",
      "Epoch [35/50], Loss: 12.7536\n",
      "Epoch [36/50], Loss: 12.6937\n",
      "Epoch [37/50], Loss: 12.6362\n",
      "Epoch [38/50], Loss: 12.5833\n",
      "Epoch [39/50], Loss: 12.5174\n",
      "Epoch [40/50], Loss: 12.4620\n",
      "Epoch [41/50], Loss: 12.4078\n",
      "Epoch [42/50], Loss: 12.3672\n",
      "Epoch [43/50], Loss: 12.3106\n",
      "Epoch [44/50], Loss: 12.2570\n",
      "Epoch [45/50], Loss: 12.1856\n",
      "Epoch [46/50], Loss: 12.1678\n",
      "Epoch [47/50], Loss: 12.0938\n",
      "Epoch [48/50], Loss: 12.0288\n",
      "Epoch [49/50], Loss: 12.0203\n",
      "Epoch [50/50], Loss: 11.9399\n"
     ]
    },
    {
     "data": {
      "image/png": "[encoded data removed]",
      "text/plain": [
       "<Figure size 640x480 with 1 Axes>"
      ]
     },
     "metadata": {},
     "output_type": "display_data"
    }
   ],
   "source": [
    "epochs = 50\n",
    "model = AutoEncoder(ResidualBlock, Encoder, Decoder, batch_size).to(device)\n",
    "train(model, train_dataloader, epochs, True)"
   ]
  },
  {
   "cell_type": "code",
   "execution_count": 27,
   "id": "68ad1b09",
   "metadata": {},
   "outputs": [
    {
     "name": "stdout",
     "output_type": "stream",
     "text": [
      "torch.Size([100, 1, 28, 28])\n"
     ]
    },
    {
     "data": {
      "text/plain": [
       "<matplotlib.image.AxesImage at 0x15800a420>"
      ]
     },
     "execution_count": 27,
     "metadata": {},
     "output_type": "execute_result"
    },
    {
     "data": {
      "image/png": "[encoded data removed]",
      "text/plain": [
       "<Figure size 640x480 with 2 Axes>"
      ]
     },
     "metadata": {},
     "output_type": "display_data"
    }
   ],
   "source": [
    "test_features, test_labels = next(iter(test_dataloader))\n",
    "print(test_features.shape)\n",
    "recon = model(test_features)[0]\n",
    "\n",
    "true = test_features[0].squeeze()\n",
    "recon = torch.reshape(recon, (28,28))\n",
    "recon = recon.detach().numpy()\n",
    "# recon = (recon/recon.max()).detach().numpy() # Unnecessary scaling\n",
    "\n",
    "label = int( test_labels[0] )\n",
    "\n",
    "fig, (ax1, ax2) = plt.subplots(1, 2)\n",
    "ax1.set_title('Test Image: '+str(  label  ) )\n",
    "ax1.imshow(true, cmap=\"gray\")\n",
    "\n",
    "ax2.set_title('AutoEncoder Reconstruction: '+str(  label  ) ) \n",
    "ax2.imshow(recon, cmap=\"gray\")\n"
   ]
  },
  {
   "cell_type": "code",
   "execution_count": null,
   "id": "d03fdec4-6b3c-4428-a4a7-facee01c8d43",
   "metadata": {},
   "outputs": [],
   "source": []
  },
  {
   "cell_type": "code",
   "execution_count": null,
   "id": "b9dec1a3-878f-41af-b42f-1ba9701e59b4",
   "metadata": {},
   "outputs": [],
   "source": []
  },
  {
   "cell_type": "code",
   "execution_count": null,
   "id": "3ab134ce-0538-4baf-b705-1c5fb7fd15a2",
   "metadata": {},
   "outputs": [],
   "source": []
  },
  {
   "cell_type": "code",
   "execution_count": null,
   "id": "ab39be57-5d3d-4b9b-ab72-bd3e0182a0e1",
   "metadata": {},
   "outputs": [],
   "source": []
  }
 ],
 "metadata": {
  "kernelspec": {
   "display_name": "Python 3 (ipykernel)",
   "language": "python",
   "name": "python3"
  },
  "language_info": {
   "codemirror_mode": {
    "name": "ipython",
    "version": 3
   },
   "file_extension": ".py",
   "mimetype": "text/x-python",
   "name": "python",
   "nbconvert_exporter": "python",
   "pygments_lexer": "ipython3",
   "version": "3.12.4"
  }
 },
 "nbformat": 4,
 "nbformat_minor": 5
}
